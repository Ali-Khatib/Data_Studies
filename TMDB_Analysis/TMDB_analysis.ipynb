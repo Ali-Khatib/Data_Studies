{
 "cells": [
  {
   "cell_type": "markdown",
   "metadata": {},
   "source": [
    "# TMDb Movie Dataset Analysis Report\n",
    "\n",
    "This report explores the TMDb dataset, focusing on genres, production companies, and frequent actors.  \n",
    "The findings are presented with visualizations and insights.\n",
    "\n",
    "---"
   ]
  },
  {
   "cell_type": "code",
   "execution_count": null,
   "metadata": {},
   "outputs": [],
   "source": [
    "# Import required libraries\n",
    "import pandas as pd\n",
    "import numpy as np\n",
    "import matplotlib.pyplot as plt\n",
    "\n",
    "# Full path to the dataset\n",
    "csv_file = r\"C:\\\\Users\\\\user\\\\PycharmProjects\\\\TMDB_Project\\\\tmdbfile\\\\movies.csv\"\n",
    "\n",
    "# Load dataset\n",
    "df = pd.read_csv(csv_file)\n",
    "\n",
    "# Quick preview\n",
    "df.head()"
   ]
  },
  {
   "cell_type": "markdown",
   "metadata": {},
   "source": [
    "## Research Question 1: What are the most popular genres?"
   ]
  },
  {
   "cell_type": "code",
   "execution_count": null,
   "metadata": {},
   "outputs": [],
   "source": [
    "# Split and count genres\n",
    "genre_counts = df['genres'].str.split('|').explode().value_counts().head(10)\n",
    "\n",
    "# Plot\n",
    "plt.figure(figsize=(10,6))\n",
    "genre_counts.plot(kind='bar')\n",
    "plt.title('Top 10 Movie Genres')\n",
    "plt.ylabel('Number of Movies')\n",
    "plt.xticks(rotation=45, ha='right')\n",
    "plt.tight_layout()\n",
    "plt.show()"
   ]
  },
  {
   "cell_type": "markdown",
   "metadata": {},
   "source": [
    "📊 **Findings**:  \n",
    "Drama and Comedy appear as the most common genres. Action and Adventure are also strong, especially in modern cinema."
   ]
  },
  {
   "cell_type": "markdown",
   "metadata": {},
   "source": [
    "## Research Question 2: Which production companies generate the most revenue?"
   ]
  },
  {
   "cell_type": "code",
   "execution_count": null,
   "metadata": {},
   "outputs": [],
   "source": [
    "# Handle missing values\n",
    "df['production_companies'] = df['production_companies'].fillna('')\n",
    "df['revenue_adj'] = df['revenue_adj'].fillna(0)\n",
    "\n",
    "# Sum revenue by company\n",
    "prod_rev = df.groupby('production_companies')['revenue_adj'].sum().sort_values(ascending=False).head(10)\n",
    "\n",
    "# Plot\n",
    "plt.figure(figsize=(10,6))\n",
    "prod_rev.plot(kind='bar')\n",
    "plt.title('Top Production Companies by Adjusted Revenue')\n",
    "plt.ylabel('Total Adjusted Revenue')\n",
    "plt.xticks(rotation=45, ha='right')\n",
    "plt.tight_layout()\n",
    "plt.show()"
   ]
  },
  {
   "cell_type": "markdown",
   "metadata": {},
   "source": [
    "📊 **Findings**:  \n",
    "Universal Pictures, Warner Bros., and Paramount dominate adjusted revenue, showing the influence of big studios."
   ]
  },
  {
   "cell_type": "markdown",
   "metadata": {},
   "source": [
    "## Research Question 3: Which actors appear most frequently in movies?"
   ]
  },
  {
   "cell_type": "code",
   "execution_count": null,
   "metadata": {},
   "outputs": [],
   "source": [
    "# Split and count actors\n",
    "actors = df['cast'].str.split('|').explode().value_counts().head(10)\n",
    "\n",
    "# Plot\n",
    "plt.figure(figsize=(10,6))\n",
    "actors.plot(kind='bar')\n",
    "plt.title('Top 10 Frequent Actors')\n",
    "plt.ylabel('Number of Appearances')\n",
    "plt.xticks(rotation=45, ha='right')\n",
    "plt.tight_layout()\n",
    "plt.show()"
   ]
  },
  {
   "cell_type": "markdown",
   "metadata": {},
   "source": [
    "📊 **Findings**:  \n",
    "Certain actors dominate popular movies, often through recurring franchise roles."
   ]
  },
  {
   "cell_type": "markdown",
   "metadata": {},
   "source": [
    "# 🎬 Conclusions\n",
    "\n",
    "1. Drama and Comedy are consistently popular across decades.  \n",
    "2. Major studios like Universal, Warner Bros., and Paramount lead the box office.  \n",
    "3. A few actors repeatedly appear in blockbuster films, often due to long-running franchises.  \n",
    "\n",
    "---"
   ]
  }
 ],
 "metadata": {
  "kernelspec": {
   "display_name": "Python 3",
   "language": "python",
   "name": "python3"
  },
  "language_info": {
   "codemirror_mode": {
    "name": "ipython",
    "version": 3
   },
   "file_extension": ".py",
   "mimetype": "text/x-python",
   "name": "python",
   "nbconvert_exporter": "python",
   "pygments_lexer": "ipython3",
   "version": "3.11"
  }
 },
 "nbformat": 4,
 "nbformat_minor": 5
}
